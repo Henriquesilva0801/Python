{
  "nbformat": 4,
  "nbformat_minor": 0,
  "metadata": {
    "colab": {
      "provenance": [],
      "collapsed_sections": []
    },
    "kernelspec": {
      "name": "python3",
      "display_name": "Python 3"
    }
  },
  "cells": [
    {
      "cell_type": "code",
      "metadata": {
        "id": "5eb0Ctq7t4P5"
      },
      "source": [
        "import pandas as pd\n",
        "import numpy as np\n",
        "\n",
        "import tensorflow as tf\n",
        "from matplotlib import pyplot as plt\n",
        "from keras.models import Sequential\n",
        "from keras.layers import Dense\n",
        "from sklearn.datasets import make_regression\n",
        "from sklearn.preprocessing import MinMaxScaler\n",
        "from sklearn.model_selection import train_test_split\n",
        "\n",
        "from sklearn.metrics import mean_squared_error\n",
        "from sklearn.metrics import mean_absolute_error\n",
        "from sklearn.metrics import r2_score\n"
      ],
      "execution_count": null,
      "outputs": []
    },
    {
      "cell_type": "code",
      "metadata": {
        "id": "5ERYuVIavenU",
        "colab": {
          "base_uri": "https://localhost:8080/",
          "height": 522
        },
        "outputId": "4037cc37-15a2-4fc7-f48e-f9430066ff88"
      },
      "source": [
        "dados = pd.read_csv(\"/content/RegressaoPrecodeCasa.CSV\",sep=\";\") \n",
        "dados"
      ],
      "execution_count": null,
      "outputs": [
        {
          "output_type": "execute_result",
          "data": {
            "text/plain": [
              "     Área comum  Área da piscina  Área Pomar  Lareira  Área garagens  \\\n",
              "0       0.00632             18.0      2310.0        0          0.538   \n",
              "1       0.02731              0.0      7070.0        0          0.469   \n",
              "2       0.02729              0.0      7070.0        0          0.469   \n",
              "3       0.03237              0.0      2180.0        0          0.458   \n",
              "4       0.06905              0.0      2180.0        0          0.458   \n",
              "..          ...              ...         ...      ...            ...   \n",
              "501     0.06263              0.0     11930.0        0          0.573   \n",
              "502     0.04527              0.0     11930.0        0          0.573   \n",
              "503     0.06076              0.0     11930.0        0          0.573   \n",
              "504     0.10959              0.0     11930.0        0          0.573   \n",
              "505     0.04741              0.0     11930.0        0          0.573   \n",
              "\n",
              "     Playground  Área canil  Área gramada  Quartos  Área de festas  \\\n",
              "0         65750        65.2         40900        1           296.0   \n",
              "1         64210        78.9         49671        2           242.0   \n",
              "2         71850        61.1         49671        2           242.0   \n",
              "3         69980        45.8         60622        3           222.0   \n",
              "4         71470        54.2         60622        3           222.0   \n",
              "..          ...         ...           ...      ...             ...   \n",
              "501       65930        69.1         24786        1           273.0   \n",
              "502       61200        76.7         22875        1           273.0   \n",
              "503       69760        91.0         21675        1           273.0   \n",
              "504       67940        89.3         23889        1           273.0   \n",
              "505       60300        80.8         25050        1           273.0   \n",
              "\n",
              "     Área Baheiros  Jardins  Area Banheiro  Preço  \n",
              "0             15.3   396.90           4.98   24.0  \n",
              "1             17.8   396.90           9.14   21.6  \n",
              "2             17.8   392.83           4.03   34.7  \n",
              "3             18.7   394.63           2.94   33.4  \n",
              "4             18.7   396.90           5.33   36.2  \n",
              "..             ...      ...            ...    ...  \n",
              "501           21.0   391.99           9.67   22.4  \n",
              "502           21.0   396.90           9.08   20.6  \n",
              "503           21.0   396.90           5.64   23.9  \n",
              "504           21.0   393.45           6.48   22.0  \n",
              "505           21.0   396.90           7.88   11.9  \n",
              "\n",
              "[506 rows x 14 columns]"
            ],
            "text/html": [
              "\n",
              "  <div id=\"df-c53a5f10-c579-40db-b838-ec09f655a275\">\n",
              "    <div class=\"colab-df-container\">\n",
              "      <div>\n",
              "<style scoped>\n",
              "    .dataframe tbody tr th:only-of-type {\n",
              "        vertical-align: middle;\n",
              "    }\n",
              "\n",
              "    .dataframe tbody tr th {\n",
              "        vertical-align: top;\n",
              "    }\n",
              "\n",
              "    .dataframe thead th {\n",
              "        text-align: right;\n",
              "    }\n",
              "</style>\n",
              "<table border=\"1\" class=\"dataframe\">\n",
              "  <thead>\n",
              "    <tr style=\"text-align: right;\">\n",
              "      <th></th>\n",
              "      <th>Área comum</th>\n",
              "      <th>Área da piscina</th>\n",
              "      <th>Área Pomar</th>\n",
              "      <th>Lareira</th>\n",
              "      <th>Área garagens</th>\n",
              "      <th>Playground</th>\n",
              "      <th>Área canil</th>\n",
              "      <th>Área gramada</th>\n",
              "      <th>Quartos</th>\n",
              "      <th>Área de festas</th>\n",
              "      <th>Área Baheiros</th>\n",
              "      <th>Jardins</th>\n",
              "      <th>Area Banheiro</th>\n",
              "      <th>Preço</th>\n",
              "    </tr>\n",
              "  </thead>\n",
              "  <tbody>\n",
              "    <tr>\n",
              "      <th>0</th>\n",
              "      <td>0.00632</td>\n",
              "      <td>18.0</td>\n",
              "      <td>2310.0</td>\n",
              "      <td>0</td>\n",
              "      <td>0.538</td>\n",
              "      <td>65750</td>\n",
              "      <td>65.2</td>\n",
              "      <td>40900</td>\n",
              "      <td>1</td>\n",
              "      <td>296.0</td>\n",
              "      <td>15.3</td>\n",
              "      <td>396.90</td>\n",
              "      <td>4.98</td>\n",
              "      <td>24.0</td>\n",
              "    </tr>\n",
              "    <tr>\n",
              "      <th>1</th>\n",
              "      <td>0.02731</td>\n",
              "      <td>0.0</td>\n",
              "      <td>7070.0</td>\n",
              "      <td>0</td>\n",
              "      <td>0.469</td>\n",
              "      <td>64210</td>\n",
              "      <td>78.9</td>\n",
              "      <td>49671</td>\n",
              "      <td>2</td>\n",
              "      <td>242.0</td>\n",
              "      <td>17.8</td>\n",
              "      <td>396.90</td>\n",
              "      <td>9.14</td>\n",
              "      <td>21.6</td>\n",
              "    </tr>\n",
              "    <tr>\n",
              "      <th>2</th>\n",
              "      <td>0.02729</td>\n",
              "      <td>0.0</td>\n",
              "      <td>7070.0</td>\n",
              "      <td>0</td>\n",
              "      <td>0.469</td>\n",
              "      <td>71850</td>\n",
              "      <td>61.1</td>\n",
              "      <td>49671</td>\n",
              "      <td>2</td>\n",
              "      <td>242.0</td>\n",
              "      <td>17.8</td>\n",
              "      <td>392.83</td>\n",
              "      <td>4.03</td>\n",
              "      <td>34.7</td>\n",
              "    </tr>\n",
              "    <tr>\n",
              "      <th>3</th>\n",
              "      <td>0.03237</td>\n",
              "      <td>0.0</td>\n",
              "      <td>2180.0</td>\n",
              "      <td>0</td>\n",
              "      <td>0.458</td>\n",
              "      <td>69980</td>\n",
              "      <td>45.8</td>\n",
              "      <td>60622</td>\n",
              "      <td>3</td>\n",
              "      <td>222.0</td>\n",
              "      <td>18.7</td>\n",
              "      <td>394.63</td>\n",
              "      <td>2.94</td>\n",
              "      <td>33.4</td>\n",
              "    </tr>\n",
              "    <tr>\n",
              "      <th>4</th>\n",
              "      <td>0.06905</td>\n",
              "      <td>0.0</td>\n",
              "      <td>2180.0</td>\n",
              "      <td>0</td>\n",
              "      <td>0.458</td>\n",
              "      <td>71470</td>\n",
              "      <td>54.2</td>\n",
              "      <td>60622</td>\n",
              "      <td>3</td>\n",
              "      <td>222.0</td>\n",
              "      <td>18.7</td>\n",
              "      <td>396.90</td>\n",
              "      <td>5.33</td>\n",
              "      <td>36.2</td>\n",
              "    </tr>\n",
              "    <tr>\n",
              "      <th>...</th>\n",
              "      <td>...</td>\n",
              "      <td>...</td>\n",
              "      <td>...</td>\n",
              "      <td>...</td>\n",
              "      <td>...</td>\n",
              "      <td>...</td>\n",
              "      <td>...</td>\n",
              "      <td>...</td>\n",
              "      <td>...</td>\n",
              "      <td>...</td>\n",
              "      <td>...</td>\n",
              "      <td>...</td>\n",
              "      <td>...</td>\n",
              "      <td>...</td>\n",
              "    </tr>\n",
              "    <tr>\n",
              "      <th>501</th>\n",
              "      <td>0.06263</td>\n",
              "      <td>0.0</td>\n",
              "      <td>11930.0</td>\n",
              "      <td>0</td>\n",
              "      <td>0.573</td>\n",
              "      <td>65930</td>\n",
              "      <td>69.1</td>\n",
              "      <td>24786</td>\n",
              "      <td>1</td>\n",
              "      <td>273.0</td>\n",
              "      <td>21.0</td>\n",
              "      <td>391.99</td>\n",
              "      <td>9.67</td>\n",
              "      <td>22.4</td>\n",
              "    </tr>\n",
              "    <tr>\n",
              "      <th>502</th>\n",
              "      <td>0.04527</td>\n",
              "      <td>0.0</td>\n",
              "      <td>11930.0</td>\n",
              "      <td>0</td>\n",
              "      <td>0.573</td>\n",
              "      <td>61200</td>\n",
              "      <td>76.7</td>\n",
              "      <td>22875</td>\n",
              "      <td>1</td>\n",
              "      <td>273.0</td>\n",
              "      <td>21.0</td>\n",
              "      <td>396.90</td>\n",
              "      <td>9.08</td>\n",
              "      <td>20.6</td>\n",
              "    </tr>\n",
              "    <tr>\n",
              "      <th>503</th>\n",
              "      <td>0.06076</td>\n",
              "      <td>0.0</td>\n",
              "      <td>11930.0</td>\n",
              "      <td>0</td>\n",
              "      <td>0.573</td>\n",
              "      <td>69760</td>\n",
              "      <td>91.0</td>\n",
              "      <td>21675</td>\n",
              "      <td>1</td>\n",
              "      <td>273.0</td>\n",
              "      <td>21.0</td>\n",
              "      <td>396.90</td>\n",
              "      <td>5.64</td>\n",
              "      <td>23.9</td>\n",
              "    </tr>\n",
              "    <tr>\n",
              "      <th>504</th>\n",
              "      <td>0.10959</td>\n",
              "      <td>0.0</td>\n",
              "      <td>11930.0</td>\n",
              "      <td>0</td>\n",
              "      <td>0.573</td>\n",
              "      <td>67940</td>\n",
              "      <td>89.3</td>\n",
              "      <td>23889</td>\n",
              "      <td>1</td>\n",
              "      <td>273.0</td>\n",
              "      <td>21.0</td>\n",
              "      <td>393.45</td>\n",
              "      <td>6.48</td>\n",
              "      <td>22.0</td>\n",
              "    </tr>\n",
              "    <tr>\n",
              "      <th>505</th>\n",
              "      <td>0.04741</td>\n",
              "      <td>0.0</td>\n",
              "      <td>11930.0</td>\n",
              "      <td>0</td>\n",
              "      <td>0.573</td>\n",
              "      <td>60300</td>\n",
              "      <td>80.8</td>\n",
              "      <td>25050</td>\n",
              "      <td>1</td>\n",
              "      <td>273.0</td>\n",
              "      <td>21.0</td>\n",
              "      <td>396.90</td>\n",
              "      <td>7.88</td>\n",
              "      <td>11.9</td>\n",
              "    </tr>\n",
              "  </tbody>\n",
              "</table>\n",
              "<p>506 rows × 14 columns</p>\n",
              "</div>\n",
              "      <button class=\"colab-df-convert\" onclick=\"convertToInteractive('df-c53a5f10-c579-40db-b838-ec09f655a275')\"\n",
              "              title=\"Convert this dataframe to an interactive table.\"\n",
              "              style=\"display:none;\">\n",
              "        \n",
              "  <svg xmlns=\"http://www.w3.org/2000/svg\" height=\"24px\"viewBox=\"0 0 24 24\"\n",
              "       width=\"24px\">\n",
              "    <path d=\"M0 0h24v24H0V0z\" fill=\"none\"/>\n",
              "    <path d=\"M18.56 5.44l.94 2.06.94-2.06 2.06-.94-2.06-.94-.94-2.06-.94 2.06-2.06.94zm-11 1L8.5 8.5l.94-2.06 2.06-.94-2.06-.94L8.5 2.5l-.94 2.06-2.06.94zm10 10l.94 2.06.94-2.06 2.06-.94-2.06-.94-.94-2.06-.94 2.06-2.06.94z\"/><path d=\"M17.41 7.96l-1.37-1.37c-.4-.4-.92-.59-1.43-.59-.52 0-1.04.2-1.43.59L10.3 9.45l-7.72 7.72c-.78.78-.78 2.05 0 2.83L4 21.41c.39.39.9.59 1.41.59.51 0 1.02-.2 1.41-.59l7.78-7.78 2.81-2.81c.8-.78.8-2.07 0-2.86zM5.41 20L4 18.59l7.72-7.72 1.47 1.35L5.41 20z\"/>\n",
              "  </svg>\n",
              "      </button>\n",
              "      \n",
              "  <style>\n",
              "    .colab-df-container {\n",
              "      display:flex;\n",
              "      flex-wrap:wrap;\n",
              "      gap: 12px;\n",
              "    }\n",
              "\n",
              "    .colab-df-convert {\n",
              "      background-color: #E8F0FE;\n",
              "      border: none;\n",
              "      border-radius: 50%;\n",
              "      cursor: pointer;\n",
              "      display: none;\n",
              "      fill: #1967D2;\n",
              "      height: 32px;\n",
              "      padding: 0 0 0 0;\n",
              "      width: 32px;\n",
              "    }\n",
              "\n",
              "    .colab-df-convert:hover {\n",
              "      background-color: #E2EBFA;\n",
              "      box-shadow: 0px 1px 2px rgba(60, 64, 67, 0.3), 0px 1px 3px 1px rgba(60, 64, 67, 0.15);\n",
              "      fill: #174EA6;\n",
              "    }\n",
              "\n",
              "    [theme=dark] .colab-df-convert {\n",
              "      background-color: #3B4455;\n",
              "      fill: #D2E3FC;\n",
              "    }\n",
              "\n",
              "    [theme=dark] .colab-df-convert:hover {\n",
              "      background-color: #434B5C;\n",
              "      box-shadow: 0px 1px 3px 1px rgba(0, 0, 0, 0.15);\n",
              "      filter: drop-shadow(0px 1px 2px rgba(0, 0, 0, 0.3));\n",
              "      fill: #FFFFFF;\n",
              "    }\n",
              "  </style>\n",
              "\n",
              "      <script>\n",
              "        const buttonEl =\n",
              "          document.querySelector('#df-c53a5f10-c579-40db-b838-ec09f655a275 button.colab-df-convert');\n",
              "        buttonEl.style.display =\n",
              "          google.colab.kernel.accessAllowed ? 'block' : 'none';\n",
              "\n",
              "        async function convertToInteractive(key) {\n",
              "          const element = document.querySelector('#df-c53a5f10-c579-40db-b838-ec09f655a275');\n",
              "          const dataTable =\n",
              "            await google.colab.kernel.invokeFunction('convertToInteractive',\n",
              "                                                     [key], {});\n",
              "          if (!dataTable) return;\n",
              "\n",
              "          const docLinkHtml = 'Like what you see? Visit the ' +\n",
              "            '<a target=\"_blank\" href=https://colab.research.google.com/notebooks/data_table.ipynb>data table notebook</a>'\n",
              "            + ' to learn more about interactive tables.';\n",
              "          element.innerHTML = '';\n",
              "          dataTable['output_type'] = 'display_data';\n",
              "          await google.colab.output.renderOutput(dataTable, element);\n",
              "          const docLink = document.createElement('div');\n",
              "          docLink.innerHTML = docLinkHtml;\n",
              "          element.appendChild(docLink);\n",
              "        }\n",
              "      </script>\n",
              "    </div>\n",
              "  </div>\n",
              "  "
            ]
          },
          "metadata": {},
          "execution_count": 3
        }
      ]
    },
    {
      "cell_type": "code",
      "metadata": {
        "id": "OFSpoZouwFy4"
      },
      "source": [
        "X = dados.values[:,0:13] # separa o conjunto com as caracteristicas - sao 19\n",
        "y = dados.values[:,13] # conjunto de saida com apenas 1 valor\n",
        "X = X.astype(float)"
      ],
      "execution_count": null,
      "outputs": []
    },
    {
      "cell_type": "code",
      "metadata": {
        "id": "m51-gnqV2ATu"
      },
      "source": [
        "# #normalizar somente X que é  a entrada\n",
        "normal = MinMaxScaler(feature_range = (0,1))\n",
        "X = normal.fit_transform(X)"
      ],
      "execution_count": null,
      "outputs": []
    },
    {
      "cell_type": "code",
      "metadata": {
        "id": "lAMCxqkC2jKE"
      },
      "source": [
        "X"
      ],
      "execution_count": null,
      "outputs": []
    },
    {
      "cell_type": "code",
      "metadata": {
        "id": "PMvhX2xhxLbm"
      },
      "source": [
        "X_train, X_test, y_train, y_test = train_test_split(X, y, test_size=0.20)"
      ],
      "execution_count": null,
      "outputs": []
    },
    {
      "cell_type": "code",
      "metadata": {
        "id": "xU_oltrxx3Dx"
      },
      "source": [
        "#Geração do modelo\n",
        "model = Sequential()\n",
        "model.add(Dense(100, activation='tanh', kernel_initializer='he_normal', input_shape=(13,)))\n",
        "model.add(Dense(180, activation='tanh'))\n",
        "model.add(Dense(500, activation='tanh'))\n",
        "model.add(Dense(350, activation='tanh'))\n",
        "model.add(Dense(200, activation='tanh'))\n",
        "model.add(Dense(230, activation='tanh'))\n",
        "model.add(Dense(200, activation='tanh'))\n",
        "model.add(Dense(1, activation='linear')) #usada para regressão"
      ],
      "execution_count": null,
      "outputs": []
    },
    {
      "cell_type": "code",
      "metadata": {
        "id": "4wtDspfDzC-S"
      },
      "source": [
        "model.compile(optimizer='adam', loss='mse')"
      ],
      "execution_count": null,
      "outputs": []
    },
    {
      "cell_type": "code",
      "metadata": {
        "id": "xkL9Y4wQzpkO"
      },
      "source": [
        "history = model.fit(X_train, y_train, validation_data=(X_test, y_test), epochs=50, batch_size=64, verbose=1)"
      ],
      "execution_count": null,
      "outputs": []
    },
    {
      "cell_type": "code",
      "metadata": {
        "id": "Op-b8o5Y0aXe"
      },
      "source": [
        "plt.title('Grafico de Custo')\n",
        "plt.plot(history.history['loss'], label='Perdas durante o Treinamento')\n",
        "plt.plot(history.history['val_loss'], label='Perdas durante os Testes')\n",
        "plt.xlabel('Epocas')\n",
        "plt.ylabel('Perdas')\n",
        "plt.legend()"
      ],
      "execution_count": null,
      "outputs": []
    },
    {
      "cell_type": "code",
      "source": [
        "y_test.shape"
      ],
      "metadata": {
        "colab": {
          "base_uri": "https://localhost:8080/"
        },
        "id": "oQJwC4qlJjm0",
        "outputId": "96880e53-0a29-400e-f76f-57719b7ba55c"
      },
      "execution_count": null,
      "outputs": [
        {
          "output_type": "execute_result",
          "data": {
            "text/plain": [
              "(102,)"
            ]
          },
          "metadata": {},
          "execution_count": 12
        }
      ]
    },
    {
      "cell_type": "code",
      "source": [
        "PrevisaoRede = model.predict(X_test)\n",
        "PrevisaoRede"
      ],
      "metadata": {
        "id": "IrPQwSZUJO_4"
      },
      "execution_count": null,
      "outputs": []
    },
    {
      "cell_type": "code",
      "source": [
        "y_test"
      ],
      "metadata": {
        "id": "aSBTnMqnGw0h"
      },
      "execution_count": null,
      "outputs": []
    },
    {
      "cell_type": "code",
      "source": [
        "MSE = mean_squared_error(y_test,PrevisaoRede)\n",
        "print(MSE)"
      ],
      "metadata": {
        "colab": {
          "base_uri": "https://localhost:8080/"
        },
        "id": "lyx5JkNDIzL3",
        "outputId": "16454422-981d-46eb-bb9f-138d6df8a0e5"
      },
      "execution_count": null,
      "outputs": [
        {
          "output_type": "stream",
          "name": "stdout",
          "text": [
            "79.1766285382693\n"
          ]
        }
      ]
    },
    {
      "cell_type": "code",
      "source": [
        "MAE = mean_absolute_error(y_test,PrevisaoRede)\n",
        "print(MAE)"
      ],
      "metadata": {
        "colab": {
          "base_uri": "https://localhost:8080/"
        },
        "id": "u2gT2qrjKY3E",
        "outputId": "5f68f455-67ff-4a18-e327-e95c4019af90"
      },
      "execution_count": null,
      "outputs": [
        {
          "output_type": "stream",
          "name": "stdout",
          "text": [
            "6.600354329277487\n"
          ]
        }
      ]
    },
    {
      "cell_type": "code",
      "source": [
        "R2 = r2_score(y_test,PrevisaoRede)\n",
        "print(R2)"
      ],
      "metadata": {
        "id": "jD1gh3EgLEZL"
      },
      "execution_count": null,
      "outputs": []
    },
    {
      "cell_type": "markdown",
      "source": [],
      "metadata": {
        "id": "mWq9jFPqLD1P"
      }
    },
    {
      "cell_type": "code",
      "source": [
        "DadosTeste = pd.read_csv(\"/content/RegressaoPrecodeCasaTeste10.csv\",sep=\"\\t\") #muda o endereço, está apontando para minha máquina!!\n",
        "DadosTeste"
      ],
      "metadata": {
        "id": "9uA8PHt6L_GF"
      },
      "execution_count": null,
      "outputs": []
    },
    {
      "cell_type": "code",
      "source": [
        "DadosTesteX = DadosTeste.values[:,0:13]\n",
        "DadosTesteY = DadosTeste.values[:,13]\n",
        "DadosTesteY"
      ],
      "metadata": {
        "id": "24zSOz4mP8Qd"
      },
      "execution_count": null,
      "outputs": []
    },
    {
      "cell_type": "code",
      "source": [
        "# #normalizar somente X que é  a entrada\n",
        "normal = MinMaxScaler(feature_range = (0,1))\n",
        "DadosTesteX = normal.fit_transform(DadosTesteX)"
      ],
      "metadata": {
        "id": "vESidwlZUJV2"
      },
      "execution_count": null,
      "outputs": []
    },
    {
      "cell_type": "code",
      "source": [
        "# criando e treinando o modelo diferente de rede neural\n",
        "from sklearn.linear_model import LinearRegression\n",
        "model2 = LinearRegression() # não é a rede neural\n",
        "model2.fit(X_train, y_train)"
      ],
      "metadata": {
        "colab": {
          "base_uri": "https://localhost:8080/"
        },
        "id": "fKdvE2LOXJHM",
        "outputId": "32d8db95-7a47-4896-d908-5fad86c388f5"
      },
      "execution_count": null,
      "outputs": [
        {
          "output_type": "execute_result",
          "data": {
            "text/plain": [
              "LinearRegression()"
            ]
          },
          "metadata": {},
          "execution_count": 116
        }
      ]
    },
    {
      "cell_type": "code",
      "source": [
        "previstolinear = model2.predict(X_test)"
      ],
      "metadata": {
        "id": "wgKhXR1aIT9R"
      },
      "execution_count": null,
      "outputs": []
    },
    {
      "cell_type": "code",
      "source": [
        "R2TesteRegressao = r2_score(y_test,previstolinear)\n",
        "R2TesteRegressao"
      ],
      "metadata": {
        "colab": {
          "base_uri": "https://localhost:8080/"
        },
        "id": "HmVbbRiXYEPt",
        "outputId": "548f32c4-5803-43fb-bcc6-92c5a306396e"
      },
      "execution_count": null,
      "outputs": [
        {
          "output_type": "execute_result",
          "data": {
            "text/plain": [
              "0.7086412391463537"
            ]
          },
          "metadata": {},
          "execution_count": 120
        }
      ]
    }
  ]
}