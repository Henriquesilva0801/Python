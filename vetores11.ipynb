{
  "nbformat": 4,
  "nbformat_minor": 0,
  "metadata": {
    "colab": {
      "provenance": []
    },
    "kernelspec": {
      "name": "python3",
      "display_name": "Python 3"
    },
    "language_info": {
      "name": "python"
    }
  },
  "cells": [
    {
      "cell_type": "code",
      "execution_count": null,
      "metadata": {
        "id": "10Lu7Z27U4qm"
      },
      "outputs": [],
      "source": [
        "#1. Importe o pacote numpy com o nome np.\n",
        "import numpy as np"
      ]
    },
    {
      "cell_type": "code",
      "source": [
        "#2. Crie o seguinte vetor unidimensional (1D):\n",
        "vetor = np.array([0, 1, 2, 3, 4, 5, 6, 7, 8, 9])"
      ],
      "metadata": {
        "id": "J2TtdT5EVKzo"
      },
      "execution_count": null,
      "outputs": []
    },
    {
      "cell_type": "code",
      "source": [
        "vetor"
      ],
      "metadata": {
        "colab": {
          "base_uri": "https://localhost:8080/"
        },
        "id": "VEtGVzykYH8G",
        "outputId": "f89d3afa-07df-48a9-a646-2f943a94f919"
      },
      "execution_count": null,
      "outputs": [
        {
          "output_type": "execute_result",
          "data": {
            "text/plain": [
              "array([0, 1, 2, 3, 4, 5, 6, 7, 8, 9])"
            ]
          },
          "metadata": {},
          "execution_count": 5
        }
      ]
    },
    {
      "cell_type": "code",
      "source": [
        "#3. Qual é o comprimento len do vetor?\n",
        "len(vetor)"
      ],
      "metadata": {
        "colab": {
          "base_uri": "https://localhost:8080/"
        },
        "id": "A6RzpolUYMom",
        "outputId": "6b45b44a-3137-4021-c562-29709253dd98"
      },
      "execution_count": null,
      "outputs": [
        {
          "output_type": "execute_result",
          "data": {
            "text/plain": [
              "10"
            ]
          },
          "metadata": {},
          "execution_count": 7
        }
      ]
    },
    {
      "cell_type": "code",
      "source": [
        "#4. Quantas dimensões ndim o vetor possui?\n",
        "np.ndim(vetor)"
      ],
      "metadata": {
        "colab": {
          "base_uri": "https://localhost:8080/"
        },
        "id": "mCphdG5FYp93",
        "outputId": "73843ec2-69f3-4544-bad3-17fde77959de"
      },
      "execution_count": null,
      "outputs": [
        {
          "output_type": "execute_result",
          "data": {
            "text/plain": [
              "1"
            ]
          },
          "metadata": {},
          "execution_count": 8
        }
      ]
    },
    {
      "cell_type": "code",
      "source": [
        "#5. O que a função shape retorna?\n",
        "np.shape(vetor)"
      ],
      "metadata": {
        "colab": {
          "base_uri": "https://localhost:8080/"
        },
        "id": "MdFWB0m7Y3Up",
        "outputId": "4e881bcf-dac0-4b95-b0d4-1e07cabdc706"
      },
      "execution_count": null,
      "outputs": [
        {
          "output_type": "execute_result",
          "data": {
            "text/plain": [
              "(10,)"
            ]
          },
          "metadata": {},
          "execution_count": 6
        }
      ]
    },
    {
      "cell_type": "code",
      "source": [
        "#6. Crie a variável pares e extraia todos os números pares do vetor para ela:\n",
        "vetorpar = np.arange(0, 9, 2)\n",
        "print(vetorpar)"
      ],
      "metadata": {
        "colab": {
          "base_uri": "https://localhost:8080/"
        },
        "id": "VqGwBfdmY-_S",
        "outputId": "f00df2ca-61a1-4fb5-8e60-b46279a93717"
      },
      "execution_count": null,
      "outputs": [
        {
          "output_type": "stream",
          "name": "stdout",
          "text": [
            "[0 2 4 6 8]\n"
          ]
        }
      ]
    },
    {
      "cell_type": "code",
      "source": [
        "#7. Substitua todos os elementos ímpares do vetor por -1, em seguida, ordene os resultados:\n",
        "vetorimpar = np.arange(1, 9, 2)-1\n",
        "print(vetorimpar)"
      ],
      "metadata": {
        "colab": {
          "base_uri": "https://localhost:8080/"
        },
        "id": "-RB4XcZKZo8w",
        "outputId": "fb2e6f42-44fd-4818-a0e2-2dd17196266d"
      },
      "execution_count": null,
      "outputs": [
        {
          "output_type": "stream",
          "name": "stdout",
          "text": [
            "[0 2 4 6]\n"
          ]
        }
      ]
    },
    {
      "cell_type": "code",
      "source": [
        "#8. Converta o vetor unidimensional (1D) abaixo para uma matriz (2D) com 4 linhas. Dica: reshape\n",
        "x = np.arange(12)\n",
        "x"
      ],
      "metadata": {
        "colab": {
          "base_uri": "https://localhost:8080/"
        },
        "id": "PlkL8AJOaLCp",
        "outputId": "fe1b7bca-6e49-4845-fee3-22a37dd11e2c"
      },
      "execution_count": null,
      "outputs": [
        {
          "output_type": "execute_result",
          "data": {
            "text/plain": [
              "array([ 0,  1,  2,  3,  4,  5,  6,  7,  8,  9, 10, 11])"
            ]
          },
          "metadata": {},
          "execution_count": 11
        }
      ]
    },
    {
      "cell_type": "code",
      "source": [
        "np.reshape(x, (2,6))"
      ],
      "metadata": {
        "colab": {
          "base_uri": "https://localhost:8080/"
        },
        "id": "iqViQCv4c-9i",
        "outputId": "5b41a4c9-058b-4928-b164-9fdd8690e4d0"
      },
      "execution_count": null,
      "outputs": [
        {
          "output_type": "execute_result",
          "data": {
            "text/plain": [
              "array([[ 0,  1,  2,  3,  4,  5],\n",
              "       [ 6,  7,  8,  9, 10, 11]])"
            ]
          },
          "metadata": {},
          "execution_count": 12
        }
      ]
    },
    {
      "cell_type": "code",
      "source": [
        "#9. Obtenha os itens em comum, ou seja, a intersecção dos vetores a e b abaixo:\n",
        "a = np.array([1, 2, 3, 4, 5, 6])\n",
        "b = np.array([2, 4, 6, 8, 10])\n",
        "c = []"
      ],
      "metadata": {
        "id": "V8ZADyudeZr8"
      },
      "execution_count": null,
      "outputs": []
    },
    {
      "cell_type": "code",
      "source": [
        "for i in a:\n",
        "  for j in b:\n",
        "    if j == i:\n",
        "      c.append(j)\n",
        "print(c)"
      ],
      "metadata": {
        "colab": {
          "base_uri": "https://localhost:8080/"
        },
        "id": "1zF9VKoKoFFt",
        "outputId": "5c3ac428-d03f-44fd-ec1a-c9990cd9895e"
      },
      "execution_count": null,
      "outputs": [
        {
          "output_type": "stream",
          "name": "stdout",
          "text": [
            "[2, 4, 6]\n"
          ]
        }
      ]
    },
    {
      "cell_type": "code",
      "source": [
        "#10. Retorne os valores únicos do vetor a que não estão no vetor b (diferença)\n",
        "a = np.array([1, 2, 3, 4])\n",
        "b = np.array([2, 4, 6, 8, 10])\n",
        "c = []"
      ],
      "metadata": {
        "id": "_bn1PXrQrn2C"
      },
      "execution_count": null,
      "outputs": []
    },
    {
      "cell_type": "code",
      "source": [
        "for i in a:\n",
        "  for j in b:\n",
        "    if j != i:\n",
        "      c.append(j)\n",
        "print(c)"
      ],
      "metadata": {
        "colab": {
          "base_uri": "https://localhost:8080/"
        },
        "id": "kBN44tqtrxLC",
        "outputId": "cab656cc-1f18-4033-c527-cd93a8613c7e"
      },
      "execution_count": null,
      "outputs": [
        {
          "output_type": "stream",
          "name": "stdout",
          "text": [
            "[2, 4, 6, 8, 10, 4, 6, 8, 10, 2, 4, 6, 8, 10, 2, 6, 8, 10]\n"
          ]
        }
      ]
    },
    {
      "cell_type": "code",
      "source": [
        "#11. Retorne um vetor com as posições (índices) onde os elementos do vetor a sãos iguais aos elementos do vetor b. Dica: where.\n",
        "a = np.array([1, 2, 3, 4, 5, 6])\n",
        "b = np.array([2, 4, 3, 4, 10, 6])\n",
        "\n",
        "indices = np.where(a == b)\n",
        "indices"
      ],
      "metadata": {
        "colab": {
          "base_uri": "https://localhost:8080/"
        },
        "id": "wRRM9DrmYeDr",
        "outputId": "914cebc3-4a04-4a0c-c714-87ab0335b86c"
      },
      "execution_count": 17,
      "outputs": [
        {
          "output_type": "execute_result",
          "data": {
            "text/plain": [
              "(array([2, 3, 5]),)"
            ]
          },
          "metadata": {},
          "execution_count": 17
        }
      ]
    },
    {
      "cell_type": "code",
      "source": [
        "#12. Obtenha todos os itens entre 5 e 15 do vetor a = [0, 1, 2, 3, . . ., 20].\n",
        "a = np.arange(21)\n",
        "interval = np.logical_and(a >= 5, a <= 15)\n",
        "a[interval]"
      ],
      "metadata": {
        "colab": {
          "base_uri": "https://localhost:8080/"
        },
        "id": "aS0p3mYecgv0",
        "outputId": "09339df9-6362-4c54-a838-50661770d40d"
      },
      "execution_count": 18,
      "outputs": [
        {
          "output_type": "execute_result",
          "data": {
            "text/plain": [
              "array([ 5,  6,  7,  8,  9, 10, 11, 12, 13, 14, 15])"
            ]
          },
          "metadata": {},
          "execution_count": 18
        }
      ]
    },
    {
      "cell_type": "code",
      "source": [
        "#13. Crie e imprima um vetor com 5 números aleatórios, sem seguida, obtenha os valores máximo e mínimo dele e mostre na tela.\n",
        "rand = np.random.randint(1, 100, 5)\n",
        "print(f'Vetor de 5 números aleatórios: {rand}')\n",
        "print(f'\\n- Maior valor do vetor: {rand.max()}')\n",
        "print(f'- Menor valor do vetor: {rand.min()}')"
      ],
      "metadata": {
        "colab": {
          "base_uri": "https://localhost:8080/"
        },
        "id": "uMovg_encvc3",
        "outputId": "4da06403-2c15-42c8-c1cc-1b6a28128775"
      },
      "execution_count": 19,
      "outputs": [
        {
          "output_type": "stream",
          "name": "stdout",
          "text": [
            "Vetor de 5 números aleatórios: [88 33  8 23 23]\n",
            "\n",
            "- Maior valor do vetor: 88\n",
            "- Menor valor do vetor: 8\n"
          ]
        }
      ]
    },
    {
      "cell_type": "code",
      "source": [
        "#14. Crie a seguinte matriz:\n",
        "matriz = np.array([[7,8,9],[4,5,6], [1,2,3]])\n",
        "matriz"
      ],
      "metadata": {
        "colab": {
          "base_uri": "https://localhost:8080/"
        },
        "id": "n6mqGYTsdMgW",
        "outputId": "d5552e53-48a4-4206-fb0e-8b571d50265b"
      },
      "execution_count": 22,
      "outputs": [
        {
          "output_type": "execute_result",
          "data": {
            "text/plain": [
              "array([[7, 8, 9],\n",
              "       [4, 5, 6],\n",
              "       [1, 2, 3]])"
            ]
          },
          "metadata": {},
          "execution_count": 22
        }
      ]
    },
    {
      "cell_type": "code",
      "source": [
        "#15. Troque de lugar a primeira coluna com a útltima coluna da matriz.\n",
        "matrizCopy = matriz.copy()\n",
        "matriz[:,0] = matrizCopy[:,-1]\n",
        "matriz[:,-1] = matrizCopy[:,0]\n",
        "\n",
        "matriz"
      ],
      "metadata": {
        "colab": {
          "base_uri": "https://localhost:8080/"
        },
        "id": "HuzeQgRNdgQS",
        "outputId": "683c84ba-e909-427f-9bb2-49abab21d91f"
      },
      "execution_count": 21,
      "outputs": [
        {
          "output_type": "execute_result",
          "data": {
            "text/plain": [
              "array([[9, 8, 7],\n",
              "       [6, 5, 4],\n",
              "       [3, 2, 1]])"
            ]
          },
          "metadata": {},
          "execution_count": 21
        }
      ]
    },
    {
      "cell_type": "code",
      "source": [
        "#16. Troque de lugar a primeira linha com a útltima linha da matriz.\n",
        "matrizCopy = matriz.copy()\n",
        "matriz[0,:] = matrizCopy[-1,:]\n",
        "matriz[-1,:] = matrizCopy[0,:]\n",
        "\n",
        "matriz"
      ],
      "metadata": {
        "colab": {
          "base_uri": "https://localhost:8080/"
        },
        "id": "W0SD0NS1dxs1",
        "outputId": "9670672e-aa2c-44d9-ae48-5e8d693d3ccb"
      },
      "execution_count": 23,
      "outputs": [
        {
          "output_type": "execute_result",
          "data": {
            "text/plain": [
              "array([[1, 2, 3],\n",
              "       [4, 5, 6],\n",
              "       [7, 8, 9]])"
            ]
          },
          "metadata": {},
          "execution_count": 23
        }
      ]
    },
    {
      "cell_type": "code",
      "source": [
        "#17. Crie uma matriz 7 × 5 preenchida com números decimais aleatórios entre 1 e 5.\n",
        "values = []\n",
        "for i in range(7):\n",
        "    values.append(np.random.uniform(0.0, 5.0, (5,)))\n",
        "\n",
        "randomMatriz = np.array(values)\n",
        "randomMatriz"
      ],
      "metadata": {
        "colab": {
          "base_uri": "https://localhost:8080/"
        },
        "id": "cA6K1QNyd8kt",
        "outputId": "6a400044-0364-4ed8-8bb8-9a9cc5ca08ae"
      },
      "execution_count": 24,
      "outputs": [
        {
          "output_type": "execute_result",
          "data": {
            "text/plain": [
              "array([[3.00333115, 3.87896412, 0.65306418, 3.01377777, 3.41753325],\n",
              "       [1.5595602 , 3.90012703, 4.14667497, 0.78330128, 2.49835029],\n",
              "       [0.68408875, 2.14397274, 0.15946042, 3.47735939, 2.59311974],\n",
              "       [2.90450319, 3.64062571, 3.74786648, 1.173523  , 3.08182458],\n",
              "       [4.66851433, 2.92697974, 4.99182868, 2.0571838 , 0.48471565],\n",
              "       [4.78989538, 4.45029866, 3.00634038, 1.34929528, 4.69258379],\n",
              "       [4.45681329, 1.08987223, 1.02853229, 4.9224355 , 0.12410532]])"
            ]
          },
          "metadata": {},
          "execution_count": 24
        }
      ]
    },
    {
      "cell_type": "code",
      "source": [
        "#18. Qual é o comprimento len da matriz?\n",
        "len(randomMatriz)"
      ],
      "metadata": {
        "colab": {
          "base_uri": "https://localhost:8080/"
        },
        "id": "zZvqzkOQeK_h",
        "outputId": "e532c8d1-2f38-436d-edfb-7505a5094484"
      },
      "execution_count": 25,
      "outputs": [
        {
          "output_type": "execute_result",
          "data": {
            "text/plain": [
              "7"
            ]
          },
          "metadata": {},
          "execution_count": 25
        }
      ]
    },
    {
      "cell_type": "code",
      "source": [
        "#19. Quantas dimensões ndim a matriz possui?\n",
        "np.ndim(randomMatriz)"
      ],
      "metadata": {
        "colab": {
          "base_uri": "https://localhost:8080/"
        },
        "id": "jp-271sDeULH",
        "outputId": "f7d3832f-3cc9-4f40-b4bb-ed1e52220cd9"
      },
      "execution_count": 26,
      "outputs": [
        {
          "output_type": "execute_result",
          "data": {
            "text/plain": [
              "2"
            ]
          },
          "metadata": {},
          "execution_count": 26
        }
      ]
    },
    {
      "cell_type": "code",
      "source": [
        "#20. O que a função shape retorna?\n",
        "np.shape(randomMatriz)"
      ],
      "metadata": {
        "colab": {
          "base_uri": "https://localhost:8080/"
        },
        "id": "lQaeJkE-ehy_",
        "outputId": "80924ee3-5815-4079-8510-4516fa980331"
      },
      "execution_count": 27,
      "outputs": [
        {
          "output_type": "execute_result",
          "data": {
            "text/plain": [
              "(7, 5)"
            ]
          },
          "metadata": {},
          "execution_count": 27
        }
      ]
    }
  ]
}